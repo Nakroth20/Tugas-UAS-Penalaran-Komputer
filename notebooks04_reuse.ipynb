{
 "cells": [
  {
   "cell_type": "code",
   "execution_count": null,
   "id": "8d778931",
   "metadata": {},
   "outputs": [],
   "source": [
    "import os\n",
    "import json\n",
    "import pandas as pd\n",
    "\n",
    "# Import fungsi retrieve dari Tahap 3\n",
    "from notebooks03_retrieval import retrieve\n",
    "\n",
    "# 1) Siapkan folder output\n",
    "os.makedirs(\"data/results\", exist_ok=True)\n",
    "\n",
    "# 2) Load queries.json\n",
    "with open(\"data/eval/queries.json\", \"r\", encoding=\"utf-8\") as f:\n",
    "    queries = json.load(f)\n",
    "\n",
    "# 3) Untuk setiap query, ambil top-1 case\n",
    "rows = []\n",
    "for q in queries:\n",
    "    # ambil id; fallback ke query_id jika perlu\n",
    "    qid   = q.get(\"id\") or q.get(\"query_id\")\n",
    "    text  = q[\"query\"]\n",
    "    true_ = q.get(\"true_solution\", \"\")\n",
    "\n",
    "    top   = retrieve(text, k=1)[0]\n",
    "    rows.append({\n",
    "        \"query_id\":       qid,\n",
    "        \"query_text\":     text,\n",
    "        \"true_solution\":  true_,\n",
    "        \"retrieved_case\": top[\"case_id\"],\n",
    "        \"pred_solution\":  top[\"amar_putusan\"]\n",
    "    })\n",
    "\n",
    "# 4) Simpan predictions.csv\n",
    "df_pred = pd.DataFrame(rows)\n",
    "outp = \"data/results/predictions.csv\"\n",
    "df_pred.to_csv(outp, index=False, encoding=\"utf-8-sig\")\n",
    "print(f\"[Stage 4] Saved predictions to {outp}\")\n"
   ]
  }
 ],
 "metadata": {
  "language_info": {
   "name": "python"
  }
 },
 "nbformat": 4,
 "nbformat_minor": 5
}
